{
 "cells": [
  {
   "cell_type": "markdown",
   "metadata": {},
   "source": [
    "\n",
    "# kaggleのデータセットを用いてモデルを構築する\n",
    "\n",
    "### 目的：クラウドファンディングが成功するかを予測するモデルを構築する\n",
    "### Kickstarter Projects URL:https://www.kaggle.com/kemical/kickstarter-projects\n",
    "\n",
    "・利用するデータ「ks-projects-201801.csv」（データ数：378,661行15列）\n",
    "\n",
    "| 列 | 項目 | 項目名 | 欠損有無 | 利用有無 |\n",
    "| :--- | :--- | :--- | :---: | :---: |\n",
    "|  1 | ID| 識別ID | - | × |\n",
    "|  2 | name |名称 | 欠損あり | × |\n",
    "|  3 | category |カテゴリ | - | × |\n",
    "|  4 | main_category |主なカテゴリ | - | × |\n",
    "|  5 | currency |使用通貨 | - | × |\n",
    "|  6 | deadline |締切日時 | - | ○※期間算出用 |\n",
    "|  7 | goal |目標調達資金額 | - | ○ |\n",
    "|  8 | launched |開始日時 | - | ○※期間算出用 |\n",
    "|  9 | pledged |集まった資金 | - | × |\n",
    "| 10 | state |プロジェクトの状態 | - | ○※成功と失敗のみ抽出 |\n",
    "| 11 | backers |支援者数 | - | × |\n",
    "| 12 | country|国 | - | × |\n",
    "| 13 | usd_pledged |集まった資金（米ドル） | 欠損あり | × |\n",
    "| 14 | usd_pledged_real |集まった資金（米ドル） | - | × |\n",
    "| 15 | usd_goal_real |目標金額（米ドル） | - | ○ |"
   ]
  },
  {
   "cell_type": "code",
   "execution_count": 180,
   "metadata": {},
   "outputs": [],
   "source": [
    "%matplotlib inline\n",
    "import pandas as pd\n",
    "import numpy as np\n",
    "import matplotlib.pyplot as plt\n",
    "from sklearn.linear_model import SGDClassifier\n",
    "from sklearn.metrics import log_loss, accuracy_score, confusion_matrix,precision_recall_fscore_support\n",
    "from  sklearn.metrics import accuracy_score, precision_recall_fscore_support, confusion_matrix # 回帰問題における性能評価に関する関数\n",
    "\n",
    "# 警告非表示\n",
    "import warnings\n",
    "warnings.filterwarnings('ignore')"
   ]
  },
  {
   "cell_type": "code",
   "execution_count": 249,
   "metadata": {},
   "outputs": [
    {
     "name": "stdout",
     "output_type": "stream",
     "text": [
      "\n",
      "▼ csvデータ確認\n"
     ]
    },
    {
     "data": {
      "text/html": [
       "<div>\n",
       "<style scoped>\n",
       "    .dataframe tbody tr th:only-of-type {\n",
       "        vertical-align: middle;\n",
       "    }\n",
       "\n",
       "    .dataframe tbody tr th {\n",
       "        vertical-align: top;\n",
       "    }\n",
       "\n",
       "    .dataframe thead th {\n",
       "        text-align: right;\n",
       "    }\n",
       "</style>\n",
       "<table border=\"1\" class=\"dataframe\">\n",
       "  <thead>\n",
       "    <tr style=\"text-align: right;\">\n",
       "      <th></th>\n",
       "      <th>state</th>\n",
       "      <th>currency</th>\n",
       "      <th>main_category</th>\n",
       "      <th>usd_goal_real</th>\n",
       "      <th>period</th>\n",
       "    </tr>\n",
       "  </thead>\n",
       "  <tbody>\n",
       "    <tr>\n",
       "      <th>18</th>\n",
       "      <td>True</td>\n",
       "      <td>USD</td>\n",
       "      <td>Music</td>\n",
       "      <td>250.00</td>\n",
       "      <td>14</td>\n",
       "    </tr>\n",
       "    <tr>\n",
       "      <th>23</th>\n",
       "      <td>False</td>\n",
       "      <td>NOK</td>\n",
       "      <td>Food</td>\n",
       "      <td>65.55</td>\n",
       "      <td>29</td>\n",
       "    </tr>\n",
       "    <tr>\n",
       "      <th>24</th>\n",
       "      <td>True</td>\n",
       "      <td>USD</td>\n",
       "      <td>Comics</td>\n",
       "      <td>175.00</td>\n",
       "      <td>19</td>\n",
       "    </tr>\n",
       "    <tr>\n",
       "      <th>28</th>\n",
       "      <td>True</td>\n",
       "      <td>GBP</td>\n",
       "      <td>Comics</td>\n",
       "      <td>142.91</td>\n",
       "      <td>29</td>\n",
       "    </tr>\n",
       "    <tr>\n",
       "      <th>83</th>\n",
       "      <td>True</td>\n",
       "      <td>USD</td>\n",
       "      <td>Music</td>\n",
       "      <td>500.00</td>\n",
       "      <td>21</td>\n",
       "    </tr>\n",
       "  </tbody>\n",
       "</table>\n",
       "</div>"
      ],
      "text/plain": [
       "    state currency main_category  usd_goal_real  period\n",
       "18   True      USD         Music         250.00      14\n",
       "23  False      NOK          Food          65.55      29\n",
       "24   True      USD        Comics         175.00      19\n",
       "28   True      GBP        Comics         142.91      29\n",
       "83   True      USD         Music         500.00      21"
      ]
     },
     "metadata": {},
     "output_type": "display_data"
    },
    {
     "name": "stdout",
     "output_type": "stream",
     "text": [
      "\n",
      "▼ 状態別件数確認\n",
      "       currency  main_category  usd_goal_real  period\n",
      "state                                                \n",
      "False        21             21             21      21\n",
      "True         24             24             24      24\n",
      "\n",
      "▼ 統計量確認\n"
     ]
    },
    {
     "data": {
      "text/html": [
       "<div>\n",
       "<style scoped>\n",
       "    .dataframe tbody tr th:only-of-type {\n",
       "        vertical-align: middle;\n",
       "    }\n",
       "\n",
       "    .dataframe tbody tr th {\n",
       "        vertical-align: top;\n",
       "    }\n",
       "\n",
       "    .dataframe thead th {\n",
       "        text-align: right;\n",
       "    }\n",
       "</style>\n",
       "<table border=\"1\" class=\"dataframe\">\n",
       "  <thead>\n",
       "    <tr style=\"text-align: right;\">\n",
       "      <th></th>\n",
       "      <th>usd_goal_real</th>\n",
       "      <th>period</th>\n",
       "    </tr>\n",
       "  </thead>\n",
       "  <tbody>\n",
       "    <tr>\n",
       "      <th>count</th>\n",
       "      <td>45.000000</td>\n",
       "      <td>45.000000</td>\n",
       "    </tr>\n",
       "    <tr>\n",
       "      <th>mean</th>\n",
       "      <td>303.578000</td>\n",
       "      <td>29.222222</td>\n",
       "    </tr>\n",
       "    <tr>\n",
       "      <th>std</th>\n",
       "      <td>167.483006</td>\n",
       "      <td>11.877957</td>\n",
       "    </tr>\n",
       "    <tr>\n",
       "      <th>min</th>\n",
       "      <td>1.000000</td>\n",
       "      <td>12.000000</td>\n",
       "    </tr>\n",
       "    <tr>\n",
       "      <th>25%</th>\n",
       "      <td>175.000000</td>\n",
       "      <td>20.000000</td>\n",
       "    </tr>\n",
       "    <tr>\n",
       "      <th>50%</th>\n",
       "      <td>312.480000</td>\n",
       "      <td>29.000000</td>\n",
       "    </tr>\n",
       "    <tr>\n",
       "      <th>75%</th>\n",
       "      <td>500.000000</td>\n",
       "      <td>30.000000</td>\n",
       "    </tr>\n",
       "    <tr>\n",
       "      <th>max</th>\n",
       "      <td>500.000000</td>\n",
       "      <td>59.000000</td>\n",
       "    </tr>\n",
       "  </tbody>\n",
       "</table>\n",
       "</div>"
      ],
      "text/plain": [
       "       usd_goal_real     period\n",
       "count      45.000000  45.000000\n",
       "mean      303.578000  29.222222\n",
       "std       167.483006  11.877957\n",
       "min         1.000000  12.000000\n",
       "25%       175.000000  20.000000\n",
       "50%       312.480000  29.000000\n",
       "75%       500.000000  30.000000\n",
       "max       500.000000  59.000000"
      ]
     },
     "execution_count": 249,
     "metadata": {},
     "output_type": "execute_result"
    }
   ],
   "source": [
    "# データセット読込\n",
    "#df= pd.read_csv('./ks-projects-201801.csv')\n",
    "df= pd.read_csv('./ks-projects-201801.csv',nrows=500)\n",
    "\n",
    "#print(\"\\n▼ 欠損項目を確認\")\n",
    "#print(df.isnull().sum())\n",
    "\n",
    "#print(\"\\n▼ 各項目の項目値を確認\")\n",
    "#print(df['state'].unique())\n",
    "#print(df['main_category'].unique())\n",
    "#print(df['category'].unique())\n",
    "#print(df['currency'].unique())\n",
    "#print(df['country'].unique())\n",
    "\n",
    "# 欠損項目および不要項目を削除\n",
    "df = df.drop(['ID','name','usd pledged','category','country','goal'], axis=1)\n",
    "# 事前に予測できない項目を削除\n",
    "df = df.drop(['backers','pledged','usd_pledged_real'], axis=1)\n",
    "\n",
    "# 開始日時と締切日時から期間(period)を算出\n",
    "df['deadline'] = pd.to_datetime(df['deadline'], errors = 'coerce')\n",
    "df['launched'] = pd.to_datetime(df['launched'], errors = 'coerce')\n",
    "df['period'] = (df['deadline'] - df['launched']).dt.days\n",
    "df = df.drop(['launched','deadline'], axis=1)\n",
    "\n",
    "# 数値項目は、数値に変換\n",
    "df['usd_goal_real'] = pd.to_numeric(df['usd_goal_real'], errors ='coerce')\n",
    "df['period'] = pd.to_numeric(df['period'], errors ='coerce')\n",
    "\n",
    "# 目標金額を抽出条件に追加\n",
    "df = df[(df['usd_goal_real'] <= 500)]\n",
    "# 状態が成功または失敗のデータを抽出\n",
    "df = df[(df['state'] == 'successful') | (df['state'] == 'failed')]\n",
    "\n",
    "# 状態が成功ならば（1：True），失敗であれば（0：False）に変更\n",
    "df['state'] = df['state'] == 'successful'\n",
    "\n",
    "# ダミー変換\n",
    "#df_dummy1 = pd.get_dummies(df['main_category'])\n",
    "#df_dummy2 = pd.get_dummies(df['currency'])\n",
    "#df = pd.concat([df.drop(['main_category'],axis=1),df_dummy1],axis=1)\n",
    "#df = pd.concat([df.drop(['currency'],axis=1),df_dummy2],axis=1)\n",
    "\n",
    "# データ並び替え\n",
    "df = df.ix[:,[2,1,0,3,4]]\n",
    "#df = df.ix[:,[2,1,0,3,4,5,6,7,8,9,10,11,12,13,14,15,16,17,18,19,20,21,22]]\n",
    "\n",
    "print(\"\\n▼ csvデータ確認\")\n",
    "display(df.head())\n",
    "\n",
    "print(\"\\n▼ 状態別件数確認\")\n",
    "print(df.groupby('state').count())\n",
    "\n",
    "print(\"\\n▼ 統計量確認\")\n",
    "df.describe()\n",
    "#print(df.info())\n"
   ]
  },
  {
   "cell_type": "code",
   "execution_count": 250,
   "metadata": {},
   "outputs": [
    {
     "data": {
      "image/png": "[encoded data removed]",
      "text/plain": [
       "<Figure size 432x288 with 2 Axes>"
      ]
     },
     "metadata": {
      "needs_background": "light"
     },
     "output_type": "display_data"
    }
   ],
   "source": [
    "# 散布図行列を書いてみる\n",
    "#pd.plotting.scatter_matrix(df, figsize=(10,10))\n",
    "#plt.show()\n",
    "\n",
    "df.corr()\n",
    "# 相関係数をヒートマップにして可視化\n",
    "sns.heatmap(df.corr())\n",
    "plt.show()"
   ]
  },
  {
   "cell_type": "code",
   "execution_count": 251,
   "metadata": {},
   "outputs": [
    {
     "name": "stdout",
     "output_type": "stream",
     "text": [
      "w0 = 148.239, w1 = -1172.358, w2 = 310.117\n"
     ]
    }
   ],
   "source": [
    "# ロジスティック回帰\n",
    "X = df[['period','usd_goal_real']].values # 説明変数\n",
    "y = df['state'].values\n",
    "\n",
    "#いろんなモデルを計算できる汎用的関数\n",
    "clf = SGDClassifier(loss='log',           # ロジスティック回帰を指定\n",
    "                    penalty='none',       # 正則化を入れる場合はL1､L2→Day2で実施\n",
    "                    max_iter=10000,       # 繰り返し計算時の強制的終了値、誤差が収束すれば利用しない。\n",
    "                    fit_intercept=True,   # 切片を有効にするかどうか\n",
    "                    random_state=1234,    # 乱数のシード\n",
    "                    tol=1e-3              # 収束する誤差の指定\n",
    "                   )\n",
    "\n",
    "# 学習\n",
    "clf.fit(X, y)\n",
    "\n",
    "# 係数（重み）を取り出す\n",
    "w0 = clf.intercept_[0]\n",
    "w1 = clf.coef_[0, 0]\n",
    "w2 = clf.coef_[0, 1]\n",
    "\n",
    "print(\"w0 = {:.3f}, w1 = {:.3f}, w2 = {:.3f}\".format(w0, w1, w2))"
   ]
  },
  {
   "cell_type": "code",
   "execution_count": 213,
   "metadata": {},
   "outputs": [
    {
     "data": {
      "image/png": "[encoded data removed]",
      "text/plain": [
       "<Figure size 432x288 with 1 Axes>"
      ]
     },
     "metadata": {
      "needs_background": "light"
     },
     "output_type": "display_data"
    }
   ],
   "source": [
    "x1, x2 = df[\"period\"].values, df[\"usd_goal_real\"].values \n",
    "\n",
    "# データをプロット\n",
    "plt.grid(which='major',color='black',linestyle=':')\n",
    "plt.grid(which='minor',color='black',linestyle=':')\n",
    "\n",
    "plt.plot(x1[y], x2[y], 'o', color='C0', label='successful')\n",
    "plt.plot(x1[~y], x2[~y], '^', color='C1', label='failed')\n",
    "\n",
    "#print('\\n▼y-------->');print(y)        # 成功or失敗\n",
    "#print('\\n▼x1------->');print(x1)       # x1＝period:期間\n",
    "#print('\\n▼x1[y]---->');print(x1[y])    # periodのうち成功のもの\n",
    "#print('\\n▼x1[~y]--->');print(x1[~y])   # periodのうち失敗のもの\n",
    "#print('\\n▼x2------->');print(x2)       # x2＝goal：目標金額\n",
    "#print('\\n▼x2[y]---->');print(x2[y])    # goalのうち成功のもの\n",
    "#print('\\n▼x2[~y]--->');print(x2[~y])   # goalのうち失敗のもの\n",
    "\n",
    "# 境界線をプロットして表示\n",
    "# 紫：境界線\n",
    "line_x = np.arange(np.min(x1) - 1, np.max(x1) + 1)\n",
    "line_y = - line_x * w1 / w2 - w0 / w2\n",
    "plt.plot(line_x, line_y, linestyle='-.', linewidth=3, color='purple', label='Threshold')\n",
    "plt.ylim([np.min(x2) - 1, np.max(x2) + 1])\n",
    "plt.legend(loc='best')\n",
    "\n",
    "plt.xlabel(\"period\")\n",
    "plt.ylabel(\"usd_goal_real\")\n",
    "plt.show()"
   ]
  },
  {
   "cell_type": "code",
   "execution_count": 252,
   "metadata": {},
   "outputs": [
    {
     "name": "stdout",
     "output_type": "stream",
     "text": [
      "対数尤度 = -13.816\n",
      "正答率 = 60.000%\n",
      "適合率（Precision） = 71.429%\n",
      "再現率（Recall） = 23.810%\n",
      "F1値（F1-score） = 35.714%\n"
     ]
    },
    {
     "data": {
      "text/html": [
       "<div>\n",
       "<style scoped>\n",
       "    .dataframe tbody tr th:only-of-type {\n",
       "        vertical-align: middle;\n",
       "    }\n",
       "\n",
       "    .dataframe tbody tr th {\n",
       "        vertical-align: top;\n",
       "    }\n",
       "\n",
       "    .dataframe thead th {\n",
       "        text-align: right;\n",
       "    }\n",
       "</style>\n",
       "<table border=\"1\" class=\"dataframe\">\n",
       "  <thead>\n",
       "    <tr style=\"text-align: right;\">\n",
       "      <th></th>\n",
       "      <th>予測 = 失敗</th>\n",
       "      <th>予測 = 成功</th>\n",
       "    </tr>\n",
       "  </thead>\n",
       "  <tbody>\n",
       "    <tr>\n",
       "      <th>正解 = 失敗</th>\n",
       "      <td>5</td>\n",
       "      <td>16</td>\n",
       "    </tr>\n",
       "    <tr>\n",
       "      <th>正解 = 成功</th>\n",
       "      <td>2</td>\n",
       "      <td>22</td>\n",
       "    </tr>\n",
       "  </tbody>\n",
       "</table>\n",
       "</div>"
      ],
      "text/plain": [
       "         予測 = 失敗  予測 = 成功\n",
       "正解 = 失敗        5       16\n",
       "正解 = 成功        2       22"
      ]
     },
     "execution_count": 252,
     "metadata": {},
     "output_type": "execute_result"
    }
   ],
   "source": [
    "# ラベルを予測\n",
    "y_est = clf.predict(X)\n",
    "\n",
    "# 対数尤度を表示\n",
    "print('対数尤度 = {:.3f}'.format(- log_loss(y, y_est)))\n",
    "\n",
    "# 正答率を表示\n",
    "print('正答率 = {:.3f}%'.format(100 * accuracy_score(y, y_est)))\n",
    "\n",
    "# Precision, Recall, F1-scoreを計算\n",
    "precision, recall, f1_score, _ = precision_recall_fscore_support(y, y_est)\n",
    "\n",
    "# 成功に関するPrecision, Recall, F1-scoreを表示\n",
    "print('適合率（Precision） = {:.3f}%'.format(100 * precision[0]))\n",
    "print('再現率（Recall） = {:.3f}%'.format(100 * recall[0]))\n",
    "print('F1値（F1-score） = {:.3f}%'.format(100 * f1_score[0]))\n",
    "\n",
    "# 予測値と正解のクロス集計\n",
    "conf_mat = pd.DataFrame(confusion_matrix(y, y_est), \n",
    "                        index=['正解 = 失敗', '正解 = 成功'], \n",
    "                        columns=['予測 = 失敗', '予測 = 成功'])\n",
    "conf_mat"
   ]
  },
  {
   "cell_type": "code",
   "execution_count": null,
   "metadata": {},
   "outputs": [],
   "source": []
  }
 ],
 "metadata": {
  "kernelspec": {
   "display_name": "Python 3",
   "language": "python",
   "name": "python3"
  },
  "language_info": {
   "codemirror_mode": {
    "name": "ipython",
    "version": 3
   },
   "file_extension": ".py",
   "mimetype": "text/x-python",
   "name": "python",
   "nbconvert_exporter": "python",
   "pygments_lexer": "ipython3",
   "version": "3.7.3"
  }
 },
 "nbformat": 4,
 "nbformat_minor": 2
}
